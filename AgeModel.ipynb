{
  "nbformat": 4,
  "nbformat_minor": 0,
  "metadata": {
    "colab": {
      "provenance": [],
      "authorship_tag": "ABX9TyMLaIqka6Ta983y8nsROI8Q",
      "include_colab_link": true
    },
    "kernelspec": {
      "name": "python3",
      "display_name": "Python 3"
    },
    "language_info": {
      "name": "python"
    },
    "widgets": {
      "application/vnd.jupyter.widget-state+json": {
        "9765d392ba8f49a2a78b7ee2f8131662": {
          "model_module": "@jupyter-widgets/controls",
          "model_name": "HBoxModel",
          "model_module_version": "1.5.0",
          "state": {
            "_dom_classes": [],
            "_model_module": "@jupyter-widgets/controls",
            "_model_module_version": "1.5.0",
            "_model_name": "HBoxModel",
            "_view_count": null,
            "_view_module": "@jupyter-widgets/controls",
            "_view_module_version": "1.5.0",
            "_view_name": "HBoxView",
            "box_style": "",
            "children": [
              "IPY_MODEL_a1d64d8ac32744d3a2def53b56b236dc",
              "IPY_MODEL_9a80fdbf58d5426d8b002c6af5b88650",
              "IPY_MODEL_c8a50b1434ee4f1eb67ffd24d77ff847"
            ],
            "layout": "IPY_MODEL_7f73a1c900db4d738dcedcd70955449d"
          }
        },
        "a1d64d8ac32744d3a2def53b56b236dc": {
          "model_module": "@jupyter-widgets/controls",
          "model_name": "HTMLModel",
          "model_module_version": "1.5.0",
          "state": {
            "_dom_classes": [],
            "_model_module": "@jupyter-widgets/controls",
            "_model_module_version": "1.5.0",
            "_model_name": "HTMLModel",
            "_view_count": null,
            "_view_module": "@jupyter-widgets/controls",
            "_view_module_version": "1.5.0",
            "_view_name": "HTMLView",
            "description": "",
            "description_tooltip": null,
            "layout": "IPY_MODEL_a9785741d6ed46d3b5a3c3f6f968c8de",
            "placeholder": "​",
            "style": "IPY_MODEL_e2200d422fd94774a25c24e576aff4d2",
            "value": "100%"
          }
        },
        "9a80fdbf58d5426d8b002c6af5b88650": {
          "model_module": "@jupyter-widgets/controls",
          "model_name": "FloatProgressModel",
          "model_module_version": "1.5.0",
          "state": {
            "_dom_classes": [],
            "_model_module": "@jupyter-widgets/controls",
            "_model_module_version": "1.5.0",
            "_model_name": "FloatProgressModel",
            "_view_count": null,
            "_view_module": "@jupyter-widgets/controls",
            "_view_module_version": "1.5.0",
            "_view_name": "ProgressView",
            "bar_style": "success",
            "description": "",
            "description_tooltip": null,
            "layout": "IPY_MODEL_b2a5ead88bb240ef9b10b194feb60f78",
            "max": 28286,
            "min": 0,
            "orientation": "horizontal",
            "style": "IPY_MODEL_6b4ec83b4b154fa2aa30dd386bd1f280",
            "value": 28286
          }
        },
        "c8a50b1434ee4f1eb67ffd24d77ff847": {
          "model_module": "@jupyter-widgets/controls",
          "model_name": "HTMLModel",
          "model_module_version": "1.5.0",
          "state": {
            "_dom_classes": [],
            "_model_module": "@jupyter-widgets/controls",
            "_model_module_version": "1.5.0",
            "_model_name": "HTMLModel",
            "_view_count": null,
            "_view_module": "@jupyter-widgets/controls",
            "_view_module_version": "1.5.0",
            "_view_name": "HTMLView",
            "description": "",
            "description_tooltip": null,
            "layout": "IPY_MODEL_98b2aabe29414336959d07e1f972ff42",
            "placeholder": "​",
            "style": "IPY_MODEL_69491fe4f392441687b10410d0fca0b2",
            "value": " 28286/28286 [01:04&lt;00:00, 234.07it/s]"
          }
        },
        "7f73a1c900db4d738dcedcd70955449d": {
          "model_module": "@jupyter-widgets/base",
          "model_name": "LayoutModel",
          "model_module_version": "1.2.0",
          "state": {
            "_model_module": "@jupyter-widgets/base",
            "_model_module_version": "1.2.0",
            "_model_name": "LayoutModel",
            "_view_count": null,
            "_view_module": "@jupyter-widgets/base",
            "_view_module_version": "1.2.0",
            "_view_name": "LayoutView",
            "align_content": null,
            "align_items": null,
            "align_self": null,
            "border": null,
            "bottom": null,
            "display": null,
            "flex": null,
            "flex_flow": null,
            "grid_area": null,
            "grid_auto_columns": null,
            "grid_auto_flow": null,
            "grid_auto_rows": null,
            "grid_column": null,
            "grid_gap": null,
            "grid_row": null,
            "grid_template_areas": null,
            "grid_template_columns": null,
            "grid_template_rows": null,
            "height": null,
            "justify_content": null,
            "justify_items": null,
            "left": null,
            "margin": null,
            "max_height": null,
            "max_width": null,
            "min_height": null,
            "min_width": null,
            "object_fit": null,
            "object_position": null,
            "order": null,
            "overflow": null,
            "overflow_x": null,
            "overflow_y": null,
            "padding": null,
            "right": null,
            "top": null,
            "visibility": null,
            "width": null
          }
        },
        "a9785741d6ed46d3b5a3c3f6f968c8de": {
          "model_module": "@jupyter-widgets/base",
          "model_name": "LayoutModel",
          "model_module_version": "1.2.0",
          "state": {
            "_model_module": "@jupyter-widgets/base",
            "_model_module_version": "1.2.0",
            "_model_name": "LayoutModel",
            "_view_count": null,
            "_view_module": "@jupyter-widgets/base",
            "_view_module_version": "1.2.0",
            "_view_name": "LayoutView",
            "align_content": null,
            "align_items": null,
            "align_self": null,
            "border": null,
            "bottom": null,
            "display": null,
            "flex": null,
            "flex_flow": null,
            "grid_area": null,
            "grid_auto_columns": null,
            "grid_auto_flow": null,
            "grid_auto_rows": null,
            "grid_column": null,
            "grid_gap": null,
            "grid_row": null,
            "grid_template_areas": null,
            "grid_template_columns": null,
            "grid_template_rows": null,
            "height": null,
            "justify_content": null,
            "justify_items": null,
            "left": null,
            "margin": null,
            "max_height": null,
            "max_width": null,
            "min_height": null,
            "min_width": null,
            "object_fit": null,
            "object_position": null,
            "order": null,
            "overflow": null,
            "overflow_x": null,
            "overflow_y": null,
            "padding": null,
            "right": null,
            "top": null,
            "visibility": null,
            "width": null
          }
        },
        "e2200d422fd94774a25c24e576aff4d2": {
          "model_module": "@jupyter-widgets/controls",
          "model_name": "DescriptionStyleModel",
          "model_module_version": "1.5.0",
          "state": {
            "_model_module": "@jupyter-widgets/controls",
            "_model_module_version": "1.5.0",
            "_model_name": "DescriptionStyleModel",
            "_view_count": null,
            "_view_module": "@jupyter-widgets/base",
            "_view_module_version": "1.2.0",
            "_view_name": "StyleView",
            "description_width": ""
          }
        },
        "b2a5ead88bb240ef9b10b194feb60f78": {
          "model_module": "@jupyter-widgets/base",
          "model_name": "LayoutModel",
          "model_module_version": "1.2.0",
          "state": {
            "_model_module": "@jupyter-widgets/base",
            "_model_module_version": "1.2.0",
            "_model_name": "LayoutModel",
            "_view_count": null,
            "_view_module": "@jupyter-widgets/base",
            "_view_module_version": "1.2.0",
            "_view_name": "LayoutView",
            "align_content": null,
            "align_items": null,
            "align_self": null,
            "border": null,
            "bottom": null,
            "display": null,
            "flex": null,
            "flex_flow": null,
            "grid_area": null,
            "grid_auto_columns": null,
            "grid_auto_flow": null,
            "grid_auto_rows": null,
            "grid_column": null,
            "grid_gap": null,
            "grid_row": null,
            "grid_template_areas": null,
            "grid_template_columns": null,
            "grid_template_rows": null,
            "height": null,
            "justify_content": null,
            "justify_items": null,
            "left": null,
            "margin": null,
            "max_height": null,
            "max_width": null,
            "min_height": null,
            "min_width": null,
            "object_fit": null,
            "object_position": null,
            "order": null,
            "overflow": null,
            "overflow_x": null,
            "overflow_y": null,
            "padding": null,
            "right": null,
            "top": null,
            "visibility": null,
            "width": null
          }
        },
        "6b4ec83b4b154fa2aa30dd386bd1f280": {
          "model_module": "@jupyter-widgets/controls",
          "model_name": "ProgressStyleModel",
          "model_module_version": "1.5.0",
          "state": {
            "_model_module": "@jupyter-widgets/controls",
            "_model_module_version": "1.5.0",
            "_model_name": "ProgressStyleModel",
            "_view_count": null,
            "_view_module": "@jupyter-widgets/base",
            "_view_module_version": "1.2.0",
            "_view_name": "StyleView",
            "bar_color": null,
            "description_width": ""
          }
        },
        "98b2aabe29414336959d07e1f972ff42": {
          "model_module": "@jupyter-widgets/base",
          "model_name": "LayoutModel",
          "model_module_version": "1.2.0",
          "state": {
            "_model_module": "@jupyter-widgets/base",
            "_model_module_version": "1.2.0",
            "_model_name": "LayoutModel",
            "_view_count": null,
            "_view_module": "@jupyter-widgets/base",
            "_view_module_version": "1.2.0",
            "_view_name": "LayoutView",
            "align_content": null,
            "align_items": null,
            "align_self": null,
            "border": null,
            "bottom": null,
            "display": null,
            "flex": null,
            "flex_flow": null,
            "grid_area": null,
            "grid_auto_columns": null,
            "grid_auto_flow": null,
            "grid_auto_rows": null,
            "grid_column": null,
            "grid_gap": null,
            "grid_row": null,
            "grid_template_areas": null,
            "grid_template_columns": null,
            "grid_template_rows": null,
            "height": null,
            "justify_content": null,
            "justify_items": null,
            "left": null,
            "margin": null,
            "max_height": null,
            "max_width": null,
            "min_height": null,
            "min_width": null,
            "object_fit": null,
            "object_position": null,
            "order": null,
            "overflow": null,
            "overflow_x": null,
            "overflow_y": null,
            "padding": null,
            "right": null,
            "top": null,
            "visibility": null,
            "width": null
          }
        },
        "69491fe4f392441687b10410d0fca0b2": {
          "model_module": "@jupyter-widgets/controls",
          "model_name": "DescriptionStyleModel",
          "model_module_version": "1.5.0",
          "state": {
            "_model_module": "@jupyter-widgets/controls",
            "_model_module_version": "1.5.0",
            "_model_name": "DescriptionStyleModel",
            "_view_count": null,
            "_view_module": "@jupyter-widgets/base",
            "_view_module_version": "1.2.0",
            "_view_name": "StyleView",
            "description_width": ""
          }
        },
        "9804218865374550a914e294f6be786d": {
          "model_module": "@jupyter-widgets/controls",
          "model_name": "HBoxModel",
          "model_module_version": "1.5.0",
          "state": {
            "_dom_classes": [],
            "_model_module": "@jupyter-widgets/controls",
            "_model_module_version": "1.5.0",
            "_model_name": "HBoxModel",
            "_view_count": null,
            "_view_module": "@jupyter-widgets/controls",
            "_view_module_version": "1.5.0",
            "_view_name": "HBoxView",
            "box_style": "",
            "children": [
              "IPY_MODEL_be81ccab0f6f4855a5cbe541de5c0f94",
              "IPY_MODEL_9696ab33e08d4fcdbbed9fec76992639",
              "IPY_MODEL_678fbd662f534a61bc85e48be2794e6c"
            ],
            "layout": "IPY_MODEL_cc2a112a59584367a7b49541277f216a"
          }
        },
        "be81ccab0f6f4855a5cbe541de5c0f94": {
          "model_module": "@jupyter-widgets/controls",
          "model_name": "HTMLModel",
          "model_module_version": "1.5.0",
          "state": {
            "_dom_classes": [],
            "_model_module": "@jupyter-widgets/controls",
            "_model_module_version": "1.5.0",
            "_model_name": "HTMLModel",
            "_view_count": null,
            "_view_module": "@jupyter-widgets/controls",
            "_view_module_version": "1.5.0",
            "_view_name": "HTMLView",
            "description": "",
            "description_tooltip": null,
            "layout": "IPY_MODEL_1ee80fadbf12433599e87c6315e64f0e",
            "placeholder": "​",
            "style": "IPY_MODEL_f2c896649b654ee4b23c4ba4bb95f4b5",
            "value": "100%"
          }
        },
        "9696ab33e08d4fcdbbed9fec76992639": {
          "model_module": "@jupyter-widgets/controls",
          "model_name": "FloatProgressModel",
          "model_module_version": "1.5.0",
          "state": {
            "_dom_classes": [],
            "_model_module": "@jupyter-widgets/controls",
            "_model_module_version": "1.5.0",
            "_model_name": "FloatProgressModel",
            "_view_count": null,
            "_view_module": "@jupyter-widgets/controls",
            "_view_module_version": "1.5.0",
            "_view_name": "ProgressView",
            "bar_style": "success",
            "description": "",
            "description_tooltip": null,
            "layout": "IPY_MODEL_474d7852774640a89b8c7e050f50b009",
            "max": 23708,
            "min": 0,
            "orientation": "horizontal",
            "style": "IPY_MODEL_5bb596bc110f4e81b8633768ef6d5239",
            "value": 23708
          }
        },
        "678fbd662f534a61bc85e48be2794e6c": {
          "model_module": "@jupyter-widgets/controls",
          "model_name": "HTMLModel",
          "model_module_version": "1.5.0",
          "state": {
            "_dom_classes": [],
            "_model_module": "@jupyter-widgets/controls",
            "_model_module_version": "1.5.0",
            "_model_name": "HTMLModel",
            "_view_count": null,
            "_view_module": "@jupyter-widgets/controls",
            "_view_module_version": "1.5.0",
            "_view_name": "HTMLView",
            "description": "",
            "description_tooltip": null,
            "layout": "IPY_MODEL_75c9ba7fd5544c18947892a63948728b",
            "placeholder": "​",
            "style": "IPY_MODEL_83744ba347254c4a94b0485e8ca04aaa",
            "value": " 23708/23708 [00:00&lt;00:00, 196133.07it/s]"
          }
        },
        "cc2a112a59584367a7b49541277f216a": {
          "model_module": "@jupyter-widgets/base",
          "model_name": "LayoutModel",
          "model_module_version": "1.2.0",
          "state": {
            "_model_module": "@jupyter-widgets/base",
            "_model_module_version": "1.2.0",
            "_model_name": "LayoutModel",
            "_view_count": null,
            "_view_module": "@jupyter-widgets/base",
            "_view_module_version": "1.2.0",
            "_view_name": "LayoutView",
            "align_content": null,
            "align_items": null,
            "align_self": null,
            "border": null,
            "bottom": null,
            "display": null,
            "flex": null,
            "flex_flow": null,
            "grid_area": null,
            "grid_auto_columns": null,
            "grid_auto_flow": null,
            "grid_auto_rows": null,
            "grid_column": null,
            "grid_gap": null,
            "grid_row": null,
            "grid_template_areas": null,
            "grid_template_columns": null,
            "grid_template_rows": null,
            "height": null,
            "justify_content": null,
            "justify_items": null,
            "left": null,
            "margin": null,
            "max_height": null,
            "max_width": null,
            "min_height": null,
            "min_width": null,
            "object_fit": null,
            "object_position": null,
            "order": null,
            "overflow": null,
            "overflow_x": null,
            "overflow_y": null,
            "padding": null,
            "right": null,
            "top": null,
            "visibility": null,
            "width": null
          }
        },
        "1ee80fadbf12433599e87c6315e64f0e": {
          "model_module": "@jupyter-widgets/base",
          "model_name": "LayoutModel",
          "model_module_version": "1.2.0",
          "state": {
            "_model_module": "@jupyter-widgets/base",
            "_model_module_version": "1.2.0",
            "_model_name": "LayoutModel",
            "_view_count": null,
            "_view_module": "@jupyter-widgets/base",
            "_view_module_version": "1.2.0",
            "_view_name": "LayoutView",
            "align_content": null,
            "align_items": null,
            "align_self": null,
            "border": null,
            "bottom": null,
            "display": null,
            "flex": null,
            "flex_flow": null,
            "grid_area": null,
            "grid_auto_columns": null,
            "grid_auto_flow": null,
            "grid_auto_rows": null,
            "grid_column": null,
            "grid_gap": null,
            "grid_row": null,
            "grid_template_areas": null,
            "grid_template_columns": null,
            "grid_template_rows": null,
            "height": null,
            "justify_content": null,
            "justify_items": null,
            "left": null,
            "margin": null,
            "max_height": null,
            "max_width": null,
            "min_height": null,
            "min_width": null,
            "object_fit": null,
            "object_position": null,
            "order": null,
            "overflow": null,
            "overflow_x": null,
            "overflow_y": null,
            "padding": null,
            "right": null,
            "top": null,
            "visibility": null,
            "width": null
          }
        },
        "f2c896649b654ee4b23c4ba4bb95f4b5": {
          "model_module": "@jupyter-widgets/controls",
          "model_name": "DescriptionStyleModel",
          "model_module_version": "1.5.0",
          "state": {
            "_model_module": "@jupyter-widgets/controls",
            "_model_module_version": "1.5.0",
            "_model_name": "DescriptionStyleModel",
            "_view_count": null,
            "_view_module": "@jupyter-widgets/base",
            "_view_module_version": "1.2.0",
            "_view_name": "StyleView",
            "description_width": ""
          }
        },
        "474d7852774640a89b8c7e050f50b009": {
          "model_module": "@jupyter-widgets/base",
          "model_name": "LayoutModel",
          "model_module_version": "1.2.0",
          "state": {
            "_model_module": "@jupyter-widgets/base",
            "_model_module_version": "1.2.0",
            "_model_name": "LayoutModel",
            "_view_count": null,
            "_view_module": "@jupyter-widgets/base",
            "_view_module_version": "1.2.0",
            "_view_name": "LayoutView",
            "align_content": null,
            "align_items": null,
            "align_self": null,
            "border": null,
            "bottom": null,
            "display": null,
            "flex": null,
            "flex_flow": null,
            "grid_area": null,
            "grid_auto_columns": null,
            "grid_auto_flow": null,
            "grid_auto_rows": null,
            "grid_column": null,
            "grid_gap": null,
            "grid_row": null,
            "grid_template_areas": null,
            "grid_template_columns": null,
            "grid_template_rows": null,
            "height": null,
            "justify_content": null,
            "justify_items": null,
            "left": null,
            "margin": null,
            "max_height": null,
            "max_width": null,
            "min_height": null,
            "min_width": null,
            "object_fit": null,
            "object_position": null,
            "order": null,
            "overflow": null,
            "overflow_x": null,
            "overflow_y": null,
            "padding": null,
            "right": null,
            "top": null,
            "visibility": null,
            "width": null
          }
        },
        "5bb596bc110f4e81b8633768ef6d5239": {
          "model_module": "@jupyter-widgets/controls",
          "model_name": "ProgressStyleModel",
          "model_module_version": "1.5.0",
          "state": {
            "_model_module": "@jupyter-widgets/controls",
            "_model_module_version": "1.5.0",
            "_model_name": "ProgressStyleModel",
            "_view_count": null,
            "_view_module": "@jupyter-widgets/base",
            "_view_module_version": "1.2.0",
            "_view_name": "StyleView",
            "bar_color": null,
            "description_width": ""
          }
        },
        "75c9ba7fd5544c18947892a63948728b": {
          "model_module": "@jupyter-widgets/base",
          "model_name": "LayoutModel",
          "model_module_version": "1.2.0",
          "state": {
            "_model_module": "@jupyter-widgets/base",
            "_model_module_version": "1.2.0",
            "_model_name": "LayoutModel",
            "_view_count": null,
            "_view_module": "@jupyter-widgets/base",
            "_view_module_version": "1.2.0",
            "_view_name": "LayoutView",
            "align_content": null,
            "align_items": null,
            "align_self": null,
            "border": null,
            "bottom": null,
            "display": null,
            "flex": null,
            "flex_flow": null,
            "grid_area": null,
            "grid_auto_columns": null,
            "grid_auto_flow": null,
            "grid_auto_rows": null,
            "grid_column": null,
            "grid_gap": null,
            "grid_row": null,
            "grid_template_areas": null,
            "grid_template_columns": null,
            "grid_template_rows": null,
            "height": null,
            "justify_content": null,
            "justify_items": null,
            "left": null,
            "margin": null,
            "max_height": null,
            "max_width": null,
            "min_height": null,
            "min_width": null,
            "object_fit": null,
            "object_position": null,
            "order": null,
            "overflow": null,
            "overflow_x": null,
            "overflow_y": null,
            "padding": null,
            "right": null,
            "top": null,
            "visibility": null,
            "width": null
          }
        },
        "83744ba347254c4a94b0485e8ca04aaa": {
          "model_module": "@jupyter-widgets/controls",
          "model_name": "DescriptionStyleModel",
          "model_module_version": "1.5.0",
          "state": {
            "_model_module": "@jupyter-widgets/controls",
            "_model_module_version": "1.5.0",
            "_model_name": "DescriptionStyleModel",
            "_view_count": null,
            "_view_module": "@jupyter-widgets/base",
            "_view_module_version": "1.2.0",
            "_view_name": "StyleView",
            "description_width": ""
          }
        },
        "9b8ada5ecb2f4c0d963192b856b64b62": {
          "model_module": "@jupyter-widgets/controls",
          "model_name": "HBoxModel",
          "model_module_version": "1.5.0",
          "state": {
            "_dom_classes": [],
            "_model_module": "@jupyter-widgets/controls",
            "_model_module_version": "1.5.0",
            "_model_name": "HBoxModel",
            "_view_count": null,
            "_view_module": "@jupyter-widgets/controls",
            "_view_module_version": "1.5.0",
            "_view_name": "HBoxView",
            "box_style": "",
            "children": [
              "IPY_MODEL_89fd7ff99e7242a48730ba470fa791ba",
              "IPY_MODEL_6aa4ba5581224e8c9180bdb526a4cd46",
              "IPY_MODEL_e0e4d3f367bc4cffbdde43e1483ce891"
            ],
            "layout": "IPY_MODEL_97963dedf1bb48e7b0b1d467846294e0"
          }
        },
        "89fd7ff99e7242a48730ba470fa791ba": {
          "model_module": "@jupyter-widgets/controls",
          "model_name": "HTMLModel",
          "model_module_version": "1.5.0",
          "state": {
            "_dom_classes": [],
            "_model_module": "@jupyter-widgets/controls",
            "_model_module_version": "1.5.0",
            "_model_name": "HTMLModel",
            "_view_count": null,
            "_view_module": "@jupyter-widgets/controls",
            "_view_module_version": "1.5.0",
            "_view_name": "HTMLView",
            "description": "",
            "description_tooltip": null,
            "layout": "IPY_MODEL_29f1e8c0b10e4884a1c39da8de17d324",
            "placeholder": "​",
            "style": "IPY_MODEL_b1a6e30fec704f6fa0bcb0c6b5965678",
            "value": "100%"
          }
        },
        "6aa4ba5581224e8c9180bdb526a4cd46": {
          "model_module": "@jupyter-widgets/controls",
          "model_name": "FloatProgressModel",
          "model_module_version": "1.5.0",
          "state": {
            "_dom_classes": [],
            "_model_module": "@jupyter-widgets/controls",
            "_model_module_version": "1.5.0",
            "_model_name": "FloatProgressModel",
            "_view_count": null,
            "_view_module": "@jupyter-widgets/controls",
            "_view_module_version": "1.5.0",
            "_view_name": "ProgressView",
            "bar_style": "success",
            "description": "",
            "description_tooltip": null,
            "layout": "IPY_MODEL_09fcdf7e8dd74114bd648a28e1cffca1",
            "max": 99,
            "min": 0,
            "orientation": "horizontal",
            "style": "IPY_MODEL_dc0b48535332462f9a0d341f028e6d90",
            "value": 99
          }
        },
        "e0e4d3f367bc4cffbdde43e1483ce891": {
          "model_module": "@jupyter-widgets/controls",
          "model_name": "HTMLModel",
          "model_module_version": "1.5.0",
          "state": {
            "_dom_classes": [],
            "_model_module": "@jupyter-widgets/controls",
            "_model_module_version": "1.5.0",
            "_model_name": "HTMLModel",
            "_view_count": null,
            "_view_module": "@jupyter-widgets/controls",
            "_view_module_version": "1.5.0",
            "_view_name": "HTMLView",
            "description": "",
            "description_tooltip": null,
            "layout": "IPY_MODEL_37af5592e2054719b5521cfbda84c27e",
            "placeholder": "​",
            "style": "IPY_MODEL_7d3e0a40605d4d6595fcf4e9fba0aa03",
            "value": " 99/99 [00:00&lt;00:00, 1781.82it/s]"
          }
        },
        "97963dedf1bb48e7b0b1d467846294e0": {
          "model_module": "@jupyter-widgets/base",
          "model_name": "LayoutModel",
          "model_module_version": "1.2.0",
          "state": {
            "_model_module": "@jupyter-widgets/base",
            "_model_module_version": "1.2.0",
            "_model_name": "LayoutModel",
            "_view_count": null,
            "_view_module": "@jupyter-widgets/base",
            "_view_module_version": "1.2.0",
            "_view_name": "LayoutView",
            "align_content": null,
            "align_items": null,
            "align_self": null,
            "border": null,
            "bottom": null,
            "display": null,
            "flex": null,
            "flex_flow": null,
            "grid_area": null,
            "grid_auto_columns": null,
            "grid_auto_flow": null,
            "grid_auto_rows": null,
            "grid_column": null,
            "grid_gap": null,
            "grid_row": null,
            "grid_template_areas": null,
            "grid_template_columns": null,
            "grid_template_rows": null,
            "height": null,
            "justify_content": null,
            "justify_items": null,
            "left": null,
            "margin": null,
            "max_height": null,
            "max_width": null,
            "min_height": null,
            "min_width": null,
            "object_fit": null,
            "object_position": null,
            "order": null,
            "overflow": null,
            "overflow_x": null,
            "overflow_y": null,
            "padding": null,
            "right": null,
            "top": null,
            "visibility": null,
            "width": null
          }
        },
        "29f1e8c0b10e4884a1c39da8de17d324": {
          "model_module": "@jupyter-widgets/base",
          "model_name": "LayoutModel",
          "model_module_version": "1.2.0",
          "state": {
            "_model_module": "@jupyter-widgets/base",
            "_model_module_version": "1.2.0",
            "_model_name": "LayoutModel",
            "_view_count": null,
            "_view_module": "@jupyter-widgets/base",
            "_view_module_version": "1.2.0",
            "_view_name": "LayoutView",
            "align_content": null,
            "align_items": null,
            "align_self": null,
            "border": null,
            "bottom": null,
            "display": null,
            "flex": null,
            "flex_flow": null,
            "grid_area": null,
            "grid_auto_columns": null,
            "grid_auto_flow": null,
            "grid_auto_rows": null,
            "grid_column": null,
            "grid_gap": null,
            "grid_row": null,
            "grid_template_areas": null,
            "grid_template_columns": null,
            "grid_template_rows": null,
            "height": null,
            "justify_content": null,
            "justify_items": null,
            "left": null,
            "margin": null,
            "max_height": null,
            "max_width": null,
            "min_height": null,
            "min_width": null,
            "object_fit": null,
            "object_position": null,
            "order": null,
            "overflow": null,
            "overflow_x": null,
            "overflow_y": null,
            "padding": null,
            "right": null,
            "top": null,
            "visibility": null,
            "width": null
          }
        },
        "b1a6e30fec704f6fa0bcb0c6b5965678": {
          "model_module": "@jupyter-widgets/controls",
          "model_name": "DescriptionStyleModel",
          "model_module_version": "1.5.0",
          "state": {
            "_model_module": "@jupyter-widgets/controls",
            "_model_module_version": "1.5.0",
            "_model_name": "DescriptionStyleModel",
            "_view_count": null,
            "_view_module": "@jupyter-widgets/base",
            "_view_module_version": "1.2.0",
            "_view_name": "StyleView",
            "description_width": ""
          }
        },
        "09fcdf7e8dd74114bd648a28e1cffca1": {
          "model_module": "@jupyter-widgets/base",
          "model_name": "LayoutModel",
          "model_module_version": "1.2.0",
          "state": {
            "_model_module": "@jupyter-widgets/base",
            "_model_module_version": "1.2.0",
            "_model_name": "LayoutModel",
            "_view_count": null,
            "_view_module": "@jupyter-widgets/base",
            "_view_module_version": "1.2.0",
            "_view_name": "LayoutView",
            "align_content": null,
            "align_items": null,
            "align_self": null,
            "border": null,
            "bottom": null,
            "display": null,
            "flex": null,
            "flex_flow": null,
            "grid_area": null,
            "grid_auto_columns": null,
            "grid_auto_flow": null,
            "grid_auto_rows": null,
            "grid_column": null,
            "grid_gap": null,
            "grid_row": null,
            "grid_template_areas": null,
            "grid_template_columns": null,
            "grid_template_rows": null,
            "height": null,
            "justify_content": null,
            "justify_items": null,
            "left": null,
            "margin": null,
            "max_height": null,
            "max_width": null,
            "min_height": null,
            "min_width": null,
            "object_fit": null,
            "object_position": null,
            "order": null,
            "overflow": null,
            "overflow_x": null,
            "overflow_y": null,
            "padding": null,
            "right": null,
            "top": null,
            "visibility": null,
            "width": null
          }
        },
        "dc0b48535332462f9a0d341f028e6d90": {
          "model_module": "@jupyter-widgets/controls",
          "model_name": "ProgressStyleModel",
          "model_module_version": "1.5.0",
          "state": {
            "_model_module": "@jupyter-widgets/controls",
            "_model_module_version": "1.5.0",
            "_model_name": "ProgressStyleModel",
            "_view_count": null,
            "_view_module": "@jupyter-widgets/base",
            "_view_module_version": "1.2.0",
            "_view_name": "StyleView",
            "bar_color": null,
            "description_width": ""
          }
        },
        "37af5592e2054719b5521cfbda84c27e": {
          "model_module": "@jupyter-widgets/base",
          "model_name": "LayoutModel",
          "model_module_version": "1.2.0",
          "state": {
            "_model_module": "@jupyter-widgets/base",
            "_model_module_version": "1.2.0",
            "_model_name": "LayoutModel",
            "_view_count": null,
            "_view_module": "@jupyter-widgets/base",
            "_view_module_version": "1.2.0",
            "_view_name": "LayoutView",
            "align_content": null,
            "align_items": null,
            "align_self": null,
            "border": null,
            "bottom": null,
            "display": null,
            "flex": null,
            "flex_flow": null,
            "grid_area": null,
            "grid_auto_columns": null,
            "grid_auto_flow": null,
            "grid_auto_rows": null,
            "grid_column": null,
            "grid_gap": null,
            "grid_row": null,
            "grid_template_areas": null,
            "grid_template_columns": null,
            "grid_template_rows": null,
            "height": null,
            "justify_content": null,
            "justify_items": null,
            "left": null,
            "margin": null,
            "max_height": null,
            "max_width": null,
            "min_height": null,
            "min_width": null,
            "object_fit": null,
            "object_position": null,
            "order": null,
            "overflow": null,
            "overflow_x": null,
            "overflow_y": null,
            "padding": null,
            "right": null,
            "top": null,
            "visibility": null,
            "width": null
          }
        },
        "7d3e0a40605d4d6595fcf4e9fba0aa03": {
          "model_module": "@jupyter-widgets/controls",
          "model_name": "DescriptionStyleModel",
          "model_module_version": "1.5.0",
          "state": {
            "_model_module": "@jupyter-widgets/controls",
            "_model_module_version": "1.5.0",
            "_model_name": "DescriptionStyleModel",
            "_view_count": null,
            "_view_module": "@jupyter-widgets/base",
            "_view_module_version": "1.2.0",
            "_view_name": "StyleView",
            "description_width": ""
          }
        }
      }
    }
  },
  "cells": [
    {
      "cell_type": "markdown",
      "metadata": {
        "id": "view-in-github",
        "colab_type": "text"
      },
      "source": [
        "<a href=\"https://colab.research.google.com/github/VladimirVladetic/AgePrediction/blob/main/AgeModel.ipynb\" target=\"_parent\"><img src=\"https://colab.research.google.com/assets/colab-badge.svg\" alt=\"Open In Colab\"/></a>"
      ]
    },
    {
      "cell_type": "code",
      "execution_count": 1,
      "metadata": {
        "id": "db8dAmwRF_wa"
      },
      "outputs": [],
      "source": [
        "import numpy as np\n",
        "import pandas as pd\n",
        "import os\n",
        "import cv2\n",
        "from tqdm.notebook import tqdm\n",
        "import matplotlib.pyplot as plt\n",
        "import seaborn as sns\n",
        "import warnings\n",
        "warnings.filterwarnings('ignore')\n",
        "import tensorflow as tf\n",
        "from keras.models import Sequential, Model\n",
        "from keras.layers import Dense, Conv2D, Dropout, Flatten, MaxPooling2D, Input, BatchNormalization\n",
        "from PIL import Image\n",
        "from keras.preprocessing.image import load_img, img_to_array\n",
        "import zipfile\n",
        "from keras.utils import to_categorical\n",
        "from tensorflow.keras.regularizers import l1_l2, l1, l2\n",
        "from tensorflow.keras.optimizers import Adam\n",
        "from tensorflow.keras.callbacks import ReduceLROnPlateau, EarlyStopping\n",
        "from tensorflow.keras.models import save_model, load_model\n",
        "from tensorflow.keras.preprocessing.image import ImageDataGenerator, img_to_array, array_to_img\n",
        "import shutil\n",
        "from imblearn.under_sampling import RandomUnderSampler\n",
        "from google.colab import files"
      ]
    },
    {
      "cell_type": "code",
      "source": [
        "uploaded = files.upload()\n",
        "\n",
        "source_path = '/content/kaggle.json'\n",
        "destination_path = '/root/.kaggle/kaggle.json'\n",
        "kaggle_dir = '/root/.kaggle/'\n",
        "if not os.path.exists(kaggle_dir):\n",
        "    os.makedirs(kaggle_dir)\n",
        "os.rename(source_path, destination_path)"
      ],
      "metadata": {
        "colab": {
          "base_uri": "https://localhost:8080/",
          "height": 73
        },
        "id": "9uKJ_LbKGbDS",
        "outputId": "9102a632-ac81-48ad-df47-1c86c067374a"
      },
      "execution_count": 2,
      "outputs": [
        {
          "output_type": "display_data",
          "data": {
            "text/plain": [
              "<IPython.core.display.HTML object>"
            ],
            "text/html": [
              "\n",
              "     <input type=\"file\" id=\"files-833c0de5-788a-4cee-a824-780ad287e772\" name=\"files[]\" multiple disabled\n",
              "        style=\"border:none\" />\n",
              "     <output id=\"result-833c0de5-788a-4cee-a824-780ad287e772\">\n",
              "      Upload widget is only available when the cell has been executed in the\n",
              "      current browser session. Please rerun this cell to enable.\n",
              "      </output>\n",
              "      <script>// Copyright 2017 Google LLC\n",
              "//\n",
              "// Licensed under the Apache License, Version 2.0 (the \"License\");\n",
              "// you may not use this file except in compliance with the License.\n",
              "// You may obtain a copy of the License at\n",
              "//\n",
              "//      http://www.apache.org/licenses/LICENSE-2.0\n",
              "//\n",
              "// Unless required by applicable law or agreed to in writing, software\n",
              "// distributed under the License is distributed on an \"AS IS\" BASIS,\n",
              "// WITHOUT WARRANTIES OR CONDITIONS OF ANY KIND, either express or implied.\n",
              "// See the License for the specific language governing permissions and\n",
              "// limitations under the License.\n",
              "\n",
              "/**\n",
              " * @fileoverview Helpers for google.colab Python module.\n",
              " */\n",
              "(function(scope) {\n",
              "function span(text, styleAttributes = {}) {\n",
              "  const element = document.createElement('span');\n",
              "  element.textContent = text;\n",
              "  for (const key of Object.keys(styleAttributes)) {\n",
              "    element.style[key] = styleAttributes[key];\n",
              "  }\n",
              "  return element;\n",
              "}\n",
              "\n",
              "// Max number of bytes which will be uploaded at a time.\n",
              "const MAX_PAYLOAD_SIZE = 100 * 1024;\n",
              "\n",
              "function _uploadFiles(inputId, outputId) {\n",
              "  const steps = uploadFilesStep(inputId, outputId);\n",
              "  const outputElement = document.getElementById(outputId);\n",
              "  // Cache steps on the outputElement to make it available for the next call\n",
              "  // to uploadFilesContinue from Python.\n",
              "  outputElement.steps = steps;\n",
              "\n",
              "  return _uploadFilesContinue(outputId);\n",
              "}\n",
              "\n",
              "// This is roughly an async generator (not supported in the browser yet),\n",
              "// where there are multiple asynchronous steps and the Python side is going\n",
              "// to poll for completion of each step.\n",
              "// This uses a Promise to block the python side on completion of each step,\n",
              "// then passes the result of the previous step as the input to the next step.\n",
              "function _uploadFilesContinue(outputId) {\n",
              "  const outputElement = document.getElementById(outputId);\n",
              "  const steps = outputElement.steps;\n",
              "\n",
              "  const next = steps.next(outputElement.lastPromiseValue);\n",
              "  return Promise.resolve(next.value.promise).then((value) => {\n",
              "    // Cache the last promise value to make it available to the next\n",
              "    // step of the generator.\n",
              "    outputElement.lastPromiseValue = value;\n",
              "    return next.value.response;\n",
              "  });\n",
              "}\n",
              "\n",
              "/**\n",
              " * Generator function which is called between each async step of the upload\n",
              " * process.\n",
              " * @param {string} inputId Element ID of the input file picker element.\n",
              " * @param {string} outputId Element ID of the output display.\n",
              " * @return {!Iterable<!Object>} Iterable of next steps.\n",
              " */\n",
              "function* uploadFilesStep(inputId, outputId) {\n",
              "  const inputElement = document.getElementById(inputId);\n",
              "  inputElement.disabled = false;\n",
              "\n",
              "  const outputElement = document.getElementById(outputId);\n",
              "  outputElement.innerHTML = '';\n",
              "\n",
              "  const pickedPromise = new Promise((resolve) => {\n",
              "    inputElement.addEventListener('change', (e) => {\n",
              "      resolve(e.target.files);\n",
              "    });\n",
              "  });\n",
              "\n",
              "  const cancel = document.createElement('button');\n",
              "  inputElement.parentElement.appendChild(cancel);\n",
              "  cancel.textContent = 'Cancel upload';\n",
              "  const cancelPromise = new Promise((resolve) => {\n",
              "    cancel.onclick = () => {\n",
              "      resolve(null);\n",
              "    };\n",
              "  });\n",
              "\n",
              "  // Wait for the user to pick the files.\n",
              "  const files = yield {\n",
              "    promise: Promise.race([pickedPromise, cancelPromise]),\n",
              "    response: {\n",
              "      action: 'starting',\n",
              "    }\n",
              "  };\n",
              "\n",
              "  cancel.remove();\n",
              "\n",
              "  // Disable the input element since further picks are not allowed.\n",
              "  inputElement.disabled = true;\n",
              "\n",
              "  if (!files) {\n",
              "    return {\n",
              "      response: {\n",
              "        action: 'complete',\n",
              "      }\n",
              "    };\n",
              "  }\n",
              "\n",
              "  for (const file of files) {\n",
              "    const li = document.createElement('li');\n",
              "    li.append(span(file.name, {fontWeight: 'bold'}));\n",
              "    li.append(span(\n",
              "        `(${file.type || 'n/a'}) - ${file.size} bytes, ` +\n",
              "        `last modified: ${\n",
              "            file.lastModifiedDate ? file.lastModifiedDate.toLocaleDateString() :\n",
              "                                    'n/a'} - `));\n",
              "    const percent = span('0% done');\n",
              "    li.appendChild(percent);\n",
              "\n",
              "    outputElement.appendChild(li);\n",
              "\n",
              "    const fileDataPromise = new Promise((resolve) => {\n",
              "      const reader = new FileReader();\n",
              "      reader.onload = (e) => {\n",
              "        resolve(e.target.result);\n",
              "      };\n",
              "      reader.readAsArrayBuffer(file);\n",
              "    });\n",
              "    // Wait for the data to be ready.\n",
              "    let fileData = yield {\n",
              "      promise: fileDataPromise,\n",
              "      response: {\n",
              "        action: 'continue',\n",
              "      }\n",
              "    };\n",
              "\n",
              "    // Use a chunked sending to avoid message size limits. See b/62115660.\n",
              "    let position = 0;\n",
              "    do {\n",
              "      const length = Math.min(fileData.byteLength - position, MAX_PAYLOAD_SIZE);\n",
              "      const chunk = new Uint8Array(fileData, position, length);\n",
              "      position += length;\n",
              "\n",
              "      const base64 = btoa(String.fromCharCode.apply(null, chunk));\n",
              "      yield {\n",
              "        response: {\n",
              "          action: 'append',\n",
              "          file: file.name,\n",
              "          data: base64,\n",
              "        },\n",
              "      };\n",
              "\n",
              "      let percentDone = fileData.byteLength === 0 ?\n",
              "          100 :\n",
              "          Math.round((position / fileData.byteLength) * 100);\n",
              "      percent.textContent = `${percentDone}% done`;\n",
              "\n",
              "    } while (position < fileData.byteLength);\n",
              "  }\n",
              "\n",
              "  // All done.\n",
              "  yield {\n",
              "    response: {\n",
              "      action: 'complete',\n",
              "    }\n",
              "  };\n",
              "}\n",
              "\n",
              "scope.google = scope.google || {};\n",
              "scope.google.colab = scope.google.colab || {};\n",
              "scope.google.colab._files = {\n",
              "  _uploadFiles,\n",
              "  _uploadFilesContinue,\n",
              "};\n",
              "})(self);\n",
              "</script> "
            ]
          },
          "metadata": {}
        },
        {
          "output_type": "stream",
          "name": "stdout",
          "text": [
            "Saving kaggle.json to kaggle.json\n"
          ]
        }
      ]
    },
    {
      "cell_type": "code",
      "source": [
        "! kaggle datasets download -d jangedoo/utkface-new\n",
        "\n",
        "with zipfile.ZipFile('/content/utkface-new.zip', 'r') as zip_ref:\n",
        "  zip_ref.extractall('/content')\n",
        "\n",
        "folder_to_delete = '/content/sample_data'\n",
        "shutil.rmtree(folder_to_delete)\n",
        "folder_to_delete = '/content/crop_part1'\n",
        "shutil.rmtree(folder_to_delete)\n",
        "folder_to_delete = '/content/utkface_aligned_cropped'\n",
        "shutil.rmtree(folder_to_delete)"
      ],
      "metadata": {
        "colab": {
          "base_uri": "https://localhost:8080/"
        },
        "id": "jyuBc9-JGcV9",
        "outputId": "0d12aa55-08bd-4d40-c4a6-4066ac5cf04c"
      },
      "execution_count": 3,
      "outputs": [
        {
          "output_type": "stream",
          "name": "stdout",
          "text": [
            "Warning: Your Kaggle API key is readable by other users on this system! To fix this, you can run 'chmod 600 /root/.kaggle/kaggle.json'\n",
            "Downloading utkface-new.zip to /content\n",
            " 99% 329M/331M [00:03<00:00, 115MB/s]\n",
            "100% 331M/331M [00:03<00:00, 102MB/s]\n"
          ]
        }
      ]
    },
    {
      "cell_type": "code",
      "source": [
        "! kaggle datasets download -d frabbisw/facial-age"
      ],
      "metadata": {
        "colab": {
          "base_uri": "https://localhost:8080/"
        },
        "id": "CNe-J9RnIs1D",
        "outputId": "2d98269d-08aa-488b-fdcc-0aef34b487f1"
      },
      "execution_count": 4,
      "outputs": [
        {
          "output_type": "stream",
          "name": "stdout",
          "text": [
            "Warning: Your Kaggle API key is readable by other users on this system! To fix this, you can run 'chmod 600 /root/.kaggle/kaggle.json'\n",
            "Downloading facial-age.zip to /content\n",
            " 99% 833M/840M [00:10<00:00, 53.5MB/s]\n",
            "100% 840M/840M [00:10<00:00, 83.3MB/s]\n"
          ]
        }
      ]
    },
    {
      "cell_type": "code",
      "source": [
        "with zipfile.ZipFile('/content/facial-age.zip', 'r') as zip_ref:\n",
        "  zip_ref.extractall('/content')"
      ],
      "metadata": {
        "id": "6Q2v9XF_LvYF"
      },
      "execution_count": 5,
      "outputs": []
    },
    {
      "cell_type": "code",
      "source": [
        "def get_image_paths_age_gender_labels(image_directory):\n",
        "    image_paths = []\n",
        "    age_labels = []\n",
        "    gender_labels = []\n",
        "    for filename in tqdm(os.listdir(image_directory )):\n",
        "        image_path = os.path.join(image_directory,filename)\n",
        "        temporary_data = filename.split(\"_\")\n",
        "        age = int(temporary_data[0])\n",
        "        gender = int(temporary_data[1])\n",
        "        image_paths.append(image_path)\n",
        "        age_labels.append(age)\n",
        "        gender_labels.append(gender)\n",
        "    return image_paths, age_labels, gender_labels"
      ],
      "metadata": {
        "id": "vIjT1_O0GfZL"
      },
      "execution_count": 6,
      "outputs": []
    },
    {
      "cell_type": "code",
      "source": [
        "def append_images_from_folders(existing_paths, existing_age_labels, new_dataset_path):\n",
        "    new_image_paths = []\n",
        "    new_age_labels = []\n",
        "\n",
        "    for age_folder in tqdm(os.listdir(new_dataset_path)):\n",
        "        age_label = int(age_folder)\n",
        "        age_image_folder = os.path.join(new_dataset_path, age_folder)\n",
        "\n",
        "        for filename in os.listdir(age_image_folder):\n",
        "            image_path = os.path.join(age_image_folder, filename)\n",
        "            new_image_paths.append(image_path)\n",
        "            new_age_labels.append(age_label)\n",
        "\n",
        "    combined_paths = existing_paths + new_image_paths\n",
        "    combined_age_labels = existing_age_labels + new_age_labels\n",
        "\n",
        "    return combined_paths, combined_age_labels"
      ],
      "metadata": {
        "id": "W80IEzdnK1Ff"
      },
      "execution_count": 7,
      "outputs": []
    },
    {
      "cell_type": "code",
      "source": [
        "def map_age_to_category(age):\n",
        "  age_ranges = [(0, 2), (3, 9), (10, 20), (21, 29), (30, 45), (46, 64), (65, 120)]\n",
        "  for category, (min_age, max_age) in enumerate(age_ranges, start=0):\n",
        "          if min_age <= age <= max_age:\n",
        "              return category\n",
        "  return 0"
      ],
      "metadata": {
        "id": "S7emo5neGgy1"
      },
      "execution_count": 8,
      "outputs": []
    },
    {
      "cell_type": "code",
      "source": [
        "# Plotting age histogram\n",
        "def plot_age(df):\n",
        "    plt.figure(figsize=(15, 5))\n",
        "    ##age_graph_labels = ['Baby', 'Child', 'Teenager', 'Young adult', 'Adult', 'Middle-aged', 'Senior']\n",
        "    df['age'].plot(kind='hist', bins=20, edgecolor='black')\n",
        "    plt.title('Age Distribution')\n",
        "    plt.xlabel('Age group')\n",
        "    plt.ylabel('Count')\n",
        "    ##plt.xticks(range(len(age_graph_labels)), age_graph_labels, rotation=0)\n",
        "    plt.show()"
      ],
      "metadata": {
        "id": "Js85R-YyGlLn"
      },
      "execution_count": 18,
      "outputs": []
    },
    {
      "cell_type": "code",
      "source": [
        "def extract_features(images, height, width):\n",
        "    features = []\n",
        "    for image in tqdm(images):\n",
        "        var_img = load_img(image, color_mode='grayscale')\n",
        "        var_img = var_img.resize((height,width), Image.ANTIALIAS)\n",
        "        var_img = np.array(var_img)\n",
        "        ## Normalization of images\n",
        "        var_img = var_img / 255.0\n",
        "        features.append(var_img)\n",
        "    features = np.array(features)\n",
        "    features = features.reshape(len(features), height, width, 1)\n",
        "    ## from float64 to float32\n",
        "    features = np.array(features, dtype=np.float32)\n",
        "    return features"
      ],
      "metadata": {
        "id": "Kex9bZ1aGq_n"
      },
      "execution_count": 10,
      "outputs": []
    },
    {
      "cell_type": "code",
      "source": [
        "def create_model(input_shape,num_age_classes):\n",
        "    inputs = Input(input_shape)\n",
        "\n",
        "    conv_1 = Conv2D(32, kernel_size=(3,3), activation='relu', padding='same')(inputs)\n",
        "    batch_1 = BatchNormalization()(conv_1)\n",
        "    conv_2 = Conv2D(64, kernel_size=(3,3), activation='relu', padding='same')(batch_1)\n",
        "    batch_2 = BatchNormalization()(conv_2)\n",
        "\n",
        "    maxpool_1 = MaxPooling2D(pool_size=(2,2))(batch_2)\n",
        "    dropout_1 = Dropout(0.25)(maxpool_1)\n",
        "\n",
        "    conv_3 = Conv2D(128, kernel_size=(3,3), activation='relu', padding='same')(dropout_1)\n",
        "    batch_3 = BatchNormalization()(conv_3)\n",
        "    conv_4 = Conv2D(128, kernel_size=(3,3), activation='relu', padding='same')(batch_3)\n",
        "    batch_4 = BatchNormalization()(conv_4)\n",
        "\n",
        "    maxpool_2 = MaxPooling2D(pool_size=(2,2))(batch_4)\n",
        "    dropout_2 = Dropout(0.25)(maxpool_2)\n",
        "\n",
        "    conv_5 = Conv2D(256, kernel_size=(3,3), activation='relu', padding='same')(dropout_2)\n",
        "    batch_5 = BatchNormalization()(conv_5)\n",
        "    conv_6 = Conv2D(256, kernel_size=(3,3), activation='relu', padding='same', kernel_regularizer=l2(0.01))(batch_5)\n",
        "    batch_6 = BatchNormalization()(conv_6)\n",
        "\n",
        "    maxpool_3 = MaxPooling2D(pool_size=(2,2))(batch_6)\n",
        "    dropout_3 = Dropout(0.25)(maxpool_3)\n",
        "\n",
        "    conv_7 = Conv2D(256, kernel_size=(3,3), activation='relu', padding='same', kernel_regularizer=l2(0.01))(dropout_3)\n",
        "    batch_7 = BatchNormalization()(conv_7)\n",
        "    conv_8 = Conv2D(256, kernel_size=(3,3), activation='relu', padding='same', kernel_regularizer=l2(0.01))(batch_7)\n",
        "    batch_8 = BatchNormalization()(conv_8)\n",
        "\n",
        "    maxpool_4 = MaxPooling2D(pool_size=(2,2))(batch_8)\n",
        "    dropout_4 = Dropout(0.25)(maxpool_4)\n",
        "\n",
        "    conv_9 = Conv2D(512, kernel_size=(3,3), activation='relu', padding='same', kernel_regularizer=l2(0.01))(dropout_4)\n",
        "    batch_9 = BatchNormalization()(conv_9)\n",
        "\n",
        "    flatten = Flatten()(batch_9)\n",
        "\n",
        "    dense_1 = Dense(256, activation='relu', kernel_regularizer=l2(0.01))(flatten)\n",
        "\n",
        "    dropout1d_1 = Dropout(0.3)(dense_1)\n",
        "\n",
        "    dense_2 = Dense(256, activation='relu', kernel_regularizer=l2(0.01))(dropout1d_1)\n",
        "\n",
        "    output = Dense(num_age_classes, activation='softmax', name=\"age_out\")(dense_2)\n",
        "\n",
        "    model = Model(inputs=[inputs], outputs=[output])\n",
        "    return model"
      ],
      "metadata": {
        "id": "x3BrZbeFGo4h"
      },
      "execution_count": null,
      "outputs": []
    },
    {
      "cell_type": "code",
      "source": [
        "def display_age_acc_graph(history):\n",
        "    acc = history.history[\"out_accuracy\"]\n",
        "    val_acc = history.history[\"val_out_accuracy\"]\n",
        "    epochs = range(len(acc))\n",
        "    plt.plot(epochs, acc, 'b', label=\"Training Accuracy\")\n",
        "    plt.plot(epochs, val_acc, 'r', label=\"Validation Accuracy\")\n",
        "    plt.title(\"Age Accuracy Graph\")\n",
        "    plt.legend()\n",
        "    plt.figure()\n",
        "\n",
        "def display_age_loss_graph(history):\n",
        "    loss = history.history[\"out_loss\"]\n",
        "    val_loss = history.history[\"val_out_loss\"]\n",
        "    epochs = range(len(loss))\n",
        "    plt.plot(epochs, loss, 'b', label=\"Training Loss\")\n",
        "    plt.plot(epochs, val_loss, 'r', label=\"Validation Loss\")\n",
        "    plt.title(\"Age Loss Graph\")\n",
        "    plt.legend()\n",
        "    plt.show()"
      ],
      "metadata": {
        "id": "dzUS_KUb3uC9"
      },
      "execution_count": 11,
      "outputs": []
    },
    {
      "cell_type": "code",
      "source": [
        "image_directory = \"/content/UTKFace/\"\n",
        "\n",
        "image_paths, age_labels, gender_labels = get_image_paths_age_gender_labels(image_directory)\n",
        "\n",
        "new_dataset_path = '/content/face_age/face_age/'\n",
        "\n",
        "image_paths, age_labels = append_images_from_folders(image_paths, age_labels, new_dataset_path)\n",
        "\n",
        "age_categories = [map_age_to_category(age) for age in age_labels]"
      ],
      "metadata": {
        "colab": {
          "base_uri": "https://localhost:8080/",
          "height": 81,
          "referenced_widgets": [
            "9804218865374550a914e294f6be786d",
            "be81ccab0f6f4855a5cbe541de5c0f94",
            "9696ab33e08d4fcdbbed9fec76992639",
            "678fbd662f534a61bc85e48be2794e6c",
            "cc2a112a59584367a7b49541277f216a",
            "1ee80fadbf12433599e87c6315e64f0e",
            "f2c896649b654ee4b23c4ba4bb95f4b5",
            "474d7852774640a89b8c7e050f50b009",
            "5bb596bc110f4e81b8633768ef6d5239",
            "75c9ba7fd5544c18947892a63948728b",
            "83744ba347254c4a94b0485e8ca04aaa",
            "9b8ada5ecb2f4c0d963192b856b64b62",
            "89fd7ff99e7242a48730ba470fa791ba",
            "6aa4ba5581224e8c9180bdb526a4cd46",
            "e0e4d3f367bc4cffbdde43e1483ce891",
            "97963dedf1bb48e7b0b1d467846294e0",
            "29f1e8c0b10e4884a1c39da8de17d324",
            "b1a6e30fec704f6fa0bcb0c6b5965678",
            "09fcdf7e8dd74114bd648a28e1cffca1",
            "dc0b48535332462f9a0d341f028e6d90",
            "37af5592e2054719b5521cfbda84c27e",
            "7d3e0a40605d4d6595fcf4e9fba0aa03"
          ]
        },
        "id": "qGBDh_gaGs6C",
        "outputId": "a64a49dd-e0a2-462d-d3ce-fbe5ce045131"
      },
      "execution_count": 19,
      "outputs": [
        {
          "output_type": "display_data",
          "data": {
            "text/plain": [
              "  0%|          | 0/23708 [00:00<?, ?it/s]"
            ],
            "application/vnd.jupyter.widget-view+json": {
              "version_major": 2,
              "version_minor": 0,
              "model_id": "9804218865374550a914e294f6be786d"
            }
          },
          "metadata": {}
        },
        {
          "output_type": "display_data",
          "data": {
            "text/plain": [
              "  0%|          | 0/99 [00:00<?, ?it/s]"
            ],
            "application/vnd.jupyter.widget-view+json": {
              "version_major": 2,
              "version_minor": 0,
              "model_id": "9b8ada5ecb2f4c0d963192b856b64b62"
            }
          },
          "metadata": {}
        }
      ]
    },
    {
      "cell_type": "code",
      "source": [
        "combined_df = pd.DataFrame()\n",
        "combined_df = pd.DataFrame({'image': image_paths, 'age': age_categories})\n",
        "\n",
        "image_height = 128\n",
        "image_width = 128\n",
        "num_age_classes = 7"
      ],
      "metadata": {
        "id": "3UD-BGTcGuoA"
      },
      "execution_count": 22,
      "outputs": []
    },
    {
      "cell_type": "code",
      "source": [
        "print(combined_df)"
      ],
      "metadata": {
        "colab": {
          "base_uri": "https://localhost:8080/"
        },
        "id": "B8n-NvuyMokP",
        "outputId": "65d3f2d8-ae11-4af8-eb2b-a6e2f5451b6f"
      },
      "execution_count": null,
      "outputs": [
        {
          "output_type": "stream",
          "name": "stdout",
          "text": [
            "                                                   image  age\n",
            "0      /content/UTKFace/17_1_0_20170109212812805.jpg....    2\n",
            "1      /content/UTKFace/35_0_1_20170113134747002.jpg....    4\n",
            "2      /content/UTKFace/2_0_4_20170103202456584.jpg.c...    0\n",
            "3      /content/UTKFace/56_0_4_20170105173517933.jpg....    5\n",
            "4      /content/UTKFace/30_1_4_20170117202951902.jpg....    4\n",
            "...                                                  ...  ...\n",
            "33481            /content/face_age/face_age/061/5820.png    5\n",
            "33482             /content/face_age/face_age/061/214.png    5\n",
            "33483            /content/face_age/face_age/061/2925.png    5\n",
            "33484            /content/face_age/face_age/061/8063.png    5\n",
            "33485            /content/face_age/face_age/061/3155.png    5\n",
            "\n",
            "[33486 rows x 2 columns]\n"
          ]
        }
      ]
    },
    {
      "cell_type": "code",
      "source": [
        "plot_age(combined_df)"
      ],
      "metadata": {
        "id": "8Lv5Ph_wNkFZ",
        "outputId": "2f6a5806-d610-4ec8-c7fe-4fa7f2624f9e",
        "colab": {
          "base_uri": "https://localhost:8080/",
          "height": 436
        }
      },
      "execution_count": 23,
      "outputs": [
        {
          "output_type": "display_data",
          "data": {
            "text/plain": [
              "<Figure size 1500x500 with 1 Axes>"
            ],
            "image/png": "[encoded data removed]"
          },
          "metadata": {}
        }
      ]
    },
    {
      "cell_type": "code",
      "source": [
        "df_test = pd.DataFrame()\n",
        "target_counts = {0: 150, 1: 150, 2: 150, 3: 200, 4: 200, 5: 200, 6: 150}\n",
        "\n",
        "for age_category, count in target_counts.items():\n",
        "    examples_to_select = combined_df[combined_df['age'] == age_category].head(count)\n",
        "\n",
        "    df_test = pd.concat([df_test, examples_to_select], ignore_index=True)\n",
        "\n",
        "    combined_df = combined_df.drop(examples_to_select.index)"
      ],
      "metadata": {
        "id": "B4q7xG9rwigr"
      },
      "execution_count": null,
      "outputs": []
    },
    {
      "cell_type": "code",
      "source": [
        "print(combined_df)\n",
        "print(df_test)"
      ],
      "metadata": {
        "colab": {
          "base_uri": "https://localhost:8080/"
        },
        "id": "1KBAoKyJyC5F",
        "outputId": "ee18b761-b1d1-4e70-fdaf-3f69f006e6cc"
      },
      "execution_count": null,
      "outputs": [
        {
          "output_type": "stream",
          "name": "stdout",
          "text": [
            "                                                   image  age\n",
            "678    /content/UTKFace/24_1_1_20170112231819332.jpg....    3\n",
            "679    /content/UTKFace/24_1_4_20170103235745076.jpg....    3\n",
            "680    /content/UTKFace/28_0_4_20170117190111300.jpg....    3\n",
            "684    /content/UTKFace/26_0_3_20170119180528964.jpg....    3\n",
            "688    /content/UTKFace/25_1_0_20170105000803577.jpg....    3\n",
            "...                                                  ...  ...\n",
            "33481            /content/face_age/face_age/053/7964.png    5\n",
            "33482             /content/face_age/face_age/053/489.png    5\n",
            "33483            /content/face_age/face_age/053/5323.png    5\n",
            "33484             /content/face_age/face_age/053/964.png    5\n",
            "33485            /content/face_age/face_age/053/5078.png    5\n",
            "\n",
            "[32286 rows x 2 columns]\n",
            "                                                  image  age\n",
            "0     /content/UTKFace/1_0_0_20170110213013468.jpg.c...    0\n",
            "1     /content/UTKFace/1_0_2_20161219222459119.jpg.c...    0\n",
            "2     /content/UTKFace/1_0_0_20170110212654271.jpg.c...    0\n",
            "3     /content/UTKFace/2_1_2_20161219152918020.jpg.c...    0\n",
            "4     /content/UTKFace/1_1_0_20170109191835969.jpg.c...    0\n",
            "...                                                 ...  ...\n",
            "1195  /content/UTKFace/89_1_0_20170110182442099.jpg....    6\n",
            "1196  /content/UTKFace/81_1_0_20170109150922380.jpg....    6\n",
            "1197  /content/UTKFace/89_1_3_20170110183718790.jpg....    6\n",
            "1198  /content/UTKFace/75_0_0_20170111210708463.jpg....    6\n",
            "1199  /content/UTKFace/70_1_0_20170120220622170.jpg....    6\n",
            "\n",
            "[1200 rows x 2 columns]\n"
          ]
        }
      ]
    },
    {
      "cell_type": "code",
      "source": [
        "age_category_to_remove = 3\n",
        "examples_to_remove = combined_df[combined_df['age'] == age_category_to_remove].head(2000)\n",
        "combined_df = combined_df.drop(examples_to_remove.index)\n",
        "\n",
        "age_category_to_remove = 4\n",
        "examples_to_remove = combined_df[combined_df['age'] == age_category_to_remove].head(2000)\n",
        "combined_df = combined_df.drop(examples_to_remove.index)"
      ],
      "metadata": {
        "id": "e_27qYsCcnlp"
      },
      "execution_count": null,
      "outputs": []
    },
    {
      "cell_type": "code",
      "source": [
        "plot_age(combined_df)\n",
        "plot_age(df_test)"
      ],
      "metadata": {
        "id": "2ZRsWkv_7Hpx",
        "outputId": "86ee094d-2977-420a-8540-1bd7264b0c63",
        "colab": {
          "base_uri": "https://localhost:8080/",
          "height": 894
        }
      },
      "execution_count": null,
      "outputs": [
        {
          "output_type": "display_data",
          "data": {
            "text/plain": [
              "<Figure size 1500x500 with 1 Axes>"
            ],
            "image/png": "[encoded data removed]"
          },
          "metadata": {}
        },
        {
          "output_type": "display_data",
          "data": {
            "text/plain": [
              "<Figure size 1500x500 with 1 Axes>"
            ],
            "image/png": "[encoded data removed]"
          },
          "metadata": {}
        }
      ]
    },
    {
      "cell_type": "code",
      "source": [
        "X = extract_features(combined_df[\"image\"],image_height,image_width)\n",
        "\n",
        "y_age = np.array(combined_df[\"age\"])\n",
        "\n",
        "y_age = np.array(list(combined_df[\"age\"].apply(lambda x: to_categorical(x, num_classes=num_age_classes))))\n",
        "\n",
        "y_age_tensor = tf.convert_to_tensor(y_age, dtype=tf.float32)\n",
        "\n",
        "input_shape = (image_height,image_width,1)"
      ],
      "metadata": {
        "colab": {
          "base_uri": "https://localhost:8080/",
          "height": 49,
          "referenced_widgets": [
            "9765d392ba8f49a2a78b7ee2f8131662",
            "a1d64d8ac32744d3a2def53b56b236dc",
            "9a80fdbf58d5426d8b002c6af5b88650",
            "c8a50b1434ee4f1eb67ffd24d77ff847",
            "7f73a1c900db4d738dcedcd70955449d",
            "a9785741d6ed46d3b5a3c3f6f968c8de",
            "e2200d422fd94774a25c24e576aff4d2",
            "b2a5ead88bb240ef9b10b194feb60f78",
            "6b4ec83b4b154fa2aa30dd386bd1f280",
            "98b2aabe29414336959d07e1f972ff42",
            "69491fe4f392441687b10410d0fca0b2"
          ]
        },
        "id": "P9m9Frg8GxeH",
        "outputId": "c45beb73-faea-49bb-959b-c364a341e204"
      },
      "execution_count": null,
      "outputs": [
        {
          "output_type": "display_data",
          "data": {
            "text/plain": [
              "  0%|          | 0/28286 [00:00<?, ?it/s]"
            ],
            "application/vnd.jupyter.widget-view+json": {
              "version_major": 2,
              "version_minor": 0,
              "model_id": "9765d392ba8f49a2a78b7ee2f8131662"
            }
          },
          "metadata": {}
        }
      ]
    },
    {
      "cell_type": "code",
      "source": [
        "print(len(y_age))\n",
        "print(len(X))"
      ],
      "metadata": {
        "colab": {
          "base_uri": "https://localhost:8080/"
        },
        "id": "swCeOoUMQrrx",
        "outputId": "c9aed856-9ea8-4435-fb9f-b8a4aa003cf3"
      },
      "execution_count": null,
      "outputs": [
        {
          "output_type": "stream",
          "name": "stdout",
          "text": [
            "28286\n",
            "28286\n"
          ]
        }
      ]
    },
    {
      "cell_type": "code",
      "source": [
        "opt = Adam(learning_rate=0.005)\n",
        "\n",
        "model = create_model(input_shape, num_age_classes)\n",
        "\n",
        "model.compile(loss=\"categorical_crossentropy\", optimizer = opt, metrics='accuracy' )\n",
        "\n",
        "early_stopping = EarlyStopping(monitor='val_loss', patience=10, restore_best_weights=True)\n",
        "\n",
        "lr_scheduler = ReduceLROnPlateau(factor=0.5, patience=5)\n",
        "\n",
        "history = model.fit(x=X, y=y_age_tensor, batch_size=64, epochs=150, validation_split=0.2, callbacks=[lr_scheduler, early_stopping])"
      ],
      "metadata": {
        "colab": {
          "base_uri": "https://localhost:8080/"
        },
        "id": "sZXDNgkKG0Dk",
        "outputId": "afa916fe-4feb-43b6-ca52-865ff3c47f14"
      },
      "execution_count": null,
      "outputs": [
        {
          "output_type": "stream",
          "name": "stdout",
          "text": [
            "Epoch 1/150\n",
            "276/354 [======================>.......] - ETA: 22s - loss: 15.2135 - accuracy: 0.2847"
          ]
        }
      ]
    },
    {
      "cell_type": "code",
      "source": [
        "model.save('agemodel4.h5')"
      ],
      "metadata": {
        "id": "m9YnzC6beNIM"
      },
      "execution_count": null,
      "outputs": []
    },
    {
      "cell_type": "code",
      "source": [
        "from google.colab import files\n",
        "files.download(\"/content/agemodel4.h5\")"
      ],
      "metadata": {
        "id": "jUWGQQm836L0"
      },
      "execution_count": null,
      "outputs": []
    },
    {
      "cell_type": "code",
      "source": [
        "def extract_features_single_image(image_path, height, width):\n",
        "    # Load and resize the image\n",
        "    var_img = Image.open(image_path).convert('L')  # Convert to grayscale\n",
        "    var_img = var_img.resize((height, width), Image.ANTIALIAS)\n",
        "\n",
        "    # Convert the image to a numpy array\n",
        "    var_img = np.array(var_img)\n",
        "\n",
        "    # Normalize the image\n",
        "    var_img = var_img / 255.0\n",
        "\n",
        "    # Reshape the image to match the expected input shape\n",
        "    var_img = var_img.reshape((1, height, width, 1)).astype(np.float32)\n",
        "\n",
        "    return var_img"
      ],
      "metadata": {
        "id": "2FdNeyBs_0kH"
      },
      "execution_count": null,
      "outputs": []
    },
    {
      "cell_type": "code",
      "source": [
        "agemodel = load_model('agemodel.h5')"
      ],
      "metadata": {
        "id": "r-fLIm5T_Hgk"
      },
      "execution_count": null,
      "outputs": []
    },
    {
      "cell_type": "code",
      "source": [
        "height=128\n",
        "width=128\n",
        "image_path = \"/content/UTKFace/100_0_0_20170112213500903.jpg.chip.jpg\""
      ],
      "metadata": {
        "id": "2Q-pRKqP_8vq"
      },
      "execution_count": null,
      "outputs": []
    },
    {
      "cell_type": "code",
      "source": [
        "preprocessed_image = extract_features_single_image(image_path, height, width)"
      ],
      "metadata": {
        "id": "JGT7Y5nB_6F9"
      },
      "execution_count": null,
      "outputs": []
    },
    {
      "cell_type": "code",
      "source": [
        "age_pred = agemodel.predict(preprocessed_image)"
      ],
      "metadata": {
        "id": "ZIfusVW6_yD3",
        "outputId": "651bec3b-c30b-4d2b-89a3-765f2eaf65ba",
        "colab": {
          "base_uri": "https://localhost:8080/"
        }
      },
      "execution_count": null,
      "outputs": [
        {
          "output_type": "stream",
          "name": "stdout",
          "text": [
            "1/1 [==============================] - 2s 2s/step\n"
          ]
        }
      ]
    },
    {
      "cell_type": "code",
      "source": [
        "print(age_pred)"
      ],
      "metadata": {
        "id": "ydYVfd7kAdfi",
        "outputId": "758646e7-02a0-43a5-f3a5-c01074716957",
        "colab": {
          "base_uri": "https://localhost:8080/"
        }
      },
      "execution_count": null,
      "outputs": [
        {
          "output_type": "stream",
          "name": "stdout",
          "text": [
            "[[3.0863832e-04 4.3457837e-13 2.1038561e-26 3.0512698e-30 2.2490328e-15\n",
            "  6.3732792e-09 2.6357263e-02 9.7333413e-01]]\n"
          ]
        }
      ]
    }
  ]
}